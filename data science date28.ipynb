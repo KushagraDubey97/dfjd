{
 "cells": [
  {
   "cell_type": "markdown",
   "id": "ec50fc86",
   "metadata": {},
   "source": [
    "1 find the sum of value in a matrix by creating matrix"
   ]
  },
  {
   "cell_type": "code",
   "execution_count": 8,
   "id": "c5e89bcd",
   "metadata": {},
   "outputs": [
    {
     "name": "stdout",
     "output_type": "stream",
     "text": [
      "The sum of values in the matrix is: 45\n"
     ]
    }
   ],
   "source": [
    "arr = [\n",
    "    [2, 5, 8],\n",
    "    [1, 3, 6],\n",
    "    [4, 7, 9]\n",
    "]\n",
    "\n",
    "total_sum = sum(sum(row) \n",
    "                for row in arr)\n",
    "\n",
    "print(f\"The sum of values in the matrix is: {total_sum}\")"
   ]
  },
  {
   "cell_type": "code",
   "execution_count": 3,
   "id": "76d0f856",
   "metadata": {},
   "outputs": [
    {
     "name": "stdout",
     "output_type": "stream",
     "text": [
      "57\n",
      "1\n"
     ]
    }
   ],
   "source": [
    "import numpy as np \n",
    "a = np.array ([1,3,12,57,2,8])\n",
    "print (a.max())\n",
    "print (a.min())"
   ]
  },
  {
   "cell_type": "code",
   "execution_count": 10,
   "id": "760dc433",
   "metadata": {},
   "outputs": [
    {
     "ename": "SyntaxError",
     "evalue": "invalid syntax (2597844949.py, line 7)",
     "output_type": "error",
     "traceback": [
      "\u001b[1;36m  Cell \u001b[1;32mIn[10], line 7\u001b[1;36m\u001b[0m\n\u001b[1;33m    total_* = *(*(row)\u001b[0m\n\u001b[1;37m            ^\u001b[0m\n\u001b[1;31mSyntaxError\u001b[0m\u001b[1;31m:\u001b[0m invalid syntax\n"
     ]
    }
   ],
   "source": [
    "arr = [\n",
    "    [2, 5, 8],\n",
    "    [1, 3, 6],\n",
    "    [4, 7, 9]\n",
    "]\n",
    "\n",
    "total_* = *(*(row) \n",
    "                for row in arr)\n",
    "\n",
    "print(f\"The multipy of values in the matrix is: {total_*}\")"
   ]
  },
  {
   "cell_type": "code",
   "execution_count": 13,
   "id": "e51dd50a",
   "metadata": {},
   "outputs": [
    {
     "name": "stdout",
     "output_type": "stream",
     "text": [
      "[2, 5, 8]\n",
      "[1, 3, 6]\n",
      "[4, 7, 9]\n"
     ]
    }
   ],
   "source": [
    "a = [\n",
    "    [2, 5, 8],\n",
    "    [1, 3, 6],\n",
    "    [4, 7, 9]\n",
    "]\n",
    "\n",
    "b = [\n",
    "    [1, 0, 0],\n",
    "    [0, 1, 0],\n",
    "    [0, 0, 1]\n",
    "]\n",
    "def multiply_matrices(a, b):\n",
    "    result = [[sum(a * b for a, b in zip(row, col)) for col in zip(*b)] for row in a]\n",
    "    return result\n",
    "result_matrix = multiply_matrices(a, b)\n",
    "\n",
    "for row in result_matrix:\n",
    "    print(row)\n"
   ]
  },
  {
   "cell_type": "code",
   "execution_count": 14,
   "id": "d40a08ca",
   "metadata": {},
   "outputs": [
    {
     "name": "stdout",
     "output_type": "stream",
     "text": [
      "[[0.26515316 0.82419779]\n",
      " [0.71062828 0.47639785]]\n",
      "[[0.67609298 0.16511433]\n",
      " [0.4439243  0.46119732]]\n"
     ]
    }
   ],
   "source": [
    "import numpy as np \n",
    "a = np.random.random([2,2])\n",
    "b = np.random.random([2,2])\n",
    "print (a)\n",
    "print (b)"
   ]
  },
  {
   "cell_type": "code",
   "execution_count": 20,
   "id": "e4255fcd",
   "metadata": {},
   "outputs": [
    {
     "name": "stdout",
     "output_type": "stream",
     "text": [
      "[[2 2]\n",
      " [3 5]]\n"
     ]
    }
   ],
   "source": [
    "import numpy as np \n",
    "a = np.array([[2,2],[3,5]])\n",
    "print (a)"
   ]
  },
  {
   "cell_type": "code",
   "execution_count": null,
   "id": "a552efd0",
   "metadata": {},
   "outputs": [],
   "source": [
    " import numpy as np \n",
    "a = np.random.random([2,2])\n",
    "b = np.random.random([2,2])\n",
    "print (a)\n",
    "print (b)"
   ]
  }
 ],
 "metadata": {
  "kernelspec": {
   "display_name": "Python 3 (ipykernel)",
   "language": "python",
   "name": "python3"
  },
  "language_info": {
   "codemirror_mode": {
    "name": "ipython",
    "version": 3
   },
   "file_extension": ".py",
   "mimetype": "text/x-python",
   "name": "python",
   "nbconvert_exporter": "python",
   "pygments_lexer": "ipython3",
   "version": "3.11.5"
  }
 },
 "nbformat": 4,
 "nbformat_minor": 5
}
